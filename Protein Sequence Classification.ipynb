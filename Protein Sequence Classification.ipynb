{
 "cells": [
  {
   "cell_type": "markdown",
   "metadata": {},
   "source": [
    "Data Import"
   ]
  },
  {
   "cell_type": "code",
   "execution_count": 76,
   "metadata": {},
   "outputs": [],
   "source": [
    "import pandas as pd\n",
    "import numpy as np\n",
    "import seaborn as sns\n",
    "import matplotlib.pyplot as plt\n",
    "from sklearn.decomposition import PCA\n",
    "from sklearn.preprocessing import LabelEncoder\n",
    "from sklearn.impute import KNNImputer\n",
    "from sklearn.preprocessing import StandardScaler\n",
    "from sklearn.feature_extraction.text import CountVectorizer"
   ]
  },
  {
   "cell_type": "code",
   "execution_count": 61,
   "metadata": {},
   "outputs": [],
   "source": [
    "data1_raw = pd.read_csv(\"F:\\Protein Sequence Classification\\pdb_data_no_dups.csv\")\n",
    "data2_raw = pd.read_csv(\"F:\\Protein Sequence Classification\\pdb_data_seq.csv\")\n",
    "\n",
    "data1 = data1_raw.copy()\n",
    "data2 = data2_raw.copy()"
   ]
  },
  {
   "cell_type": "markdown",
   "metadata": {},
   "source": [
    "Data Preprocessing"
   ]
  },
  {
   "cell_type": "code",
   "execution_count": 62,
   "metadata": {},
   "outputs": [],
   "source": [
    "data1_feature = ['resolution','residueCount','structureMolecularWeight','densityMatthews','densityPercentSol','phValue','experimentalTechnique','macromoleculeType']\n",
    "data1_year = data1['publicationYear']\n",
    "data1_index = data1['structureId']\n",
    "data1_lebel = data1['classification']\n",
    "\n",
    "row1, col1 = data1.shape\n",
    "row2, col2 = data2.shape"
   ]
  },
  {
   "cell_type": "code",
   "execution_count": 63,
   "metadata": {},
   "outputs": [],
   "source": [
    "# dropping unnecessary columns\n",
    "drop_column = []\n",
    "for i in data1.columns:\n",
    "    if i not in data1_feature:\n",
    "        drop_column.append(i)\n",
    "\n",
    "data1 = data1.drop(columns=drop_column)"
   ]
  },
  {
   "cell_type": "code",
   "execution_count": 64,
   "metadata": {},
   "outputs": [
    {
     "data": {
      "text/html": [
       "<div>\n",
       "<style scoped>\n",
       "    .dataframe tbody tr th:only-of-type {\n",
       "        vertical-align: middle;\n",
       "    }\n",
       "\n",
       "    .dataframe tbody tr th {\n",
       "        vertical-align: top;\n",
       "    }\n",
       "\n",
       "    .dataframe thead th {\n",
       "        text-align: right;\n",
       "    }\n",
       "</style>\n",
       "<table border=\"1\" class=\"dataframe\">\n",
       "  <thead>\n",
       "    <tr style=\"text-align: right;\">\n",
       "      <th></th>\n",
       "      <th>residueCount</th>\n",
       "      <th>resolution</th>\n",
       "      <th>structureMolecularWeight</th>\n",
       "      <th>densityMatthews</th>\n",
       "      <th>densityPercentSol</th>\n",
       "      <th>phValue</th>\n",
       "      <th>macromoleculeType_encoded</th>\n",
       "      <th>experimentalTechnique_encoded</th>\n",
       "    </tr>\n",
       "  </thead>\n",
       "  <tbody>\n",
       "    <tr>\n",
       "      <th>0</th>\n",
       "      <td>20</td>\n",
       "      <td>1.90</td>\n",
       "      <td>6360.30</td>\n",
       "      <td>1.78</td>\n",
       "      <td>30.89</td>\n",
       "      <td>7.0</td>\n",
       "      <td>3</td>\n",
       "      <td>29</td>\n",
       "    </tr>\n",
       "    <tr>\n",
       "      <th>1</th>\n",
       "      <td>24</td>\n",
       "      <td>2.25</td>\n",
       "      <td>7939.35</td>\n",
       "      <td>2.00</td>\n",
       "      <td>38.45</td>\n",
       "      <td>NaN</td>\n",
       "      <td>0</td>\n",
       "      <td>29</td>\n",
       "    </tr>\n",
       "    <tr>\n",
       "      <th>2</th>\n",
       "      <td>154</td>\n",
       "      <td>2.07</td>\n",
       "      <td>18112.80</td>\n",
       "      <td>3.09</td>\n",
       "      <td>60.20</td>\n",
       "      <td>9.0</td>\n",
       "      <td>4</td>\n",
       "      <td>29</td>\n",
       "    </tr>\n",
       "    <tr>\n",
       "      <th>3</th>\n",
       "      <td>24</td>\n",
       "      <td>2.20</td>\n",
       "      <td>7637.17</td>\n",
       "      <td>2.28</td>\n",
       "      <td>46.06</td>\n",
       "      <td>7.0</td>\n",
       "      <td>0</td>\n",
       "      <td>29</td>\n",
       "    </tr>\n",
       "    <tr>\n",
       "      <th>4</th>\n",
       "      <td>165</td>\n",
       "      <td>1.74</td>\n",
       "      <td>18926.61</td>\n",
       "      <td>2.75</td>\n",
       "      <td>55.28</td>\n",
       "      <td>NaN</td>\n",
       "      <td>4</td>\n",
       "      <td>29</td>\n",
       "    </tr>\n",
       "    <tr>\n",
       "      <th>...</th>\n",
       "      <td>...</td>\n",
       "      <td>...</td>\n",
       "      <td>...</td>\n",
       "      <td>...</td>\n",
       "      <td>...</td>\n",
       "      <td>...</td>\n",
       "      <td>...</td>\n",
       "      <td>...</td>\n",
       "    </tr>\n",
       "    <tr>\n",
       "      <th>141396</th>\n",
       "      <td>932</td>\n",
       "      <td>2.60</td>\n",
       "      <td>101838.68</td>\n",
       "      <td>2.38</td>\n",
       "      <td>48.29</td>\n",
       "      <td>NaN</td>\n",
       "      <td>4</td>\n",
       "      <td>29</td>\n",
       "    </tr>\n",
       "    <tr>\n",
       "      <th>141397</th>\n",
       "      <td>0</td>\n",
       "      <td>NaN</td>\n",
       "      <td>24244.34</td>\n",
       "      <td>3.17</td>\n",
       "      <td>61.18</td>\n",
       "      <td>NaN</td>\n",
       "      <td>13</td>\n",
       "      <td>29</td>\n",
       "    </tr>\n",
       "    <tr>\n",
       "      <th>141398</th>\n",
       "      <td>342</td>\n",
       "      <td>1.80</td>\n",
       "      <td>34270.22</td>\n",
       "      <td>2.50</td>\n",
       "      <td>50.76</td>\n",
       "      <td>NaN</td>\n",
       "      <td>4</td>\n",
       "      <td>29</td>\n",
       "    </tr>\n",
       "    <tr>\n",
       "      <th>141399</th>\n",
       "      <td>388</td>\n",
       "      <td>1.90</td>\n",
       "      <td>43542.29</td>\n",
       "      <td>2.79</td>\n",
       "      <td>55.93</td>\n",
       "      <td>NaN</td>\n",
       "      <td>4</td>\n",
       "      <td>29</td>\n",
       "    </tr>\n",
       "    <tr>\n",
       "      <th>141400</th>\n",
       "      <td>1572</td>\n",
       "      <td>2.40</td>\n",
       "      <td>174722.12</td>\n",
       "      <td>3.96</td>\n",
       "      <td>68.92</td>\n",
       "      <td>NaN</td>\n",
       "      <td>4</td>\n",
       "      <td>29</td>\n",
       "    </tr>\n",
       "  </tbody>\n",
       "</table>\n",
       "<p>141401 rows × 8 columns</p>\n",
       "</div>"
      ],
      "text/plain": [
       "        residueCount  resolution  structureMolecularWeight  densityMatthews  \\\n",
       "0                 20        1.90                   6360.30             1.78   \n",
       "1                 24        2.25                   7939.35             2.00   \n",
       "2                154        2.07                  18112.80             3.09   \n",
       "3                 24        2.20                   7637.17             2.28   \n",
       "4                165        1.74                  18926.61             2.75   \n",
       "...              ...         ...                       ...              ...   \n",
       "141396           932        2.60                 101838.68             2.38   \n",
       "141397             0         NaN                  24244.34             3.17   \n",
       "141398           342        1.80                  34270.22             2.50   \n",
       "141399           388        1.90                  43542.29             2.79   \n",
       "141400          1572        2.40                 174722.12             3.96   \n",
       "\n",
       "        densityPercentSol  phValue  macromoleculeType_encoded  \\\n",
       "0                   30.89      7.0                          3   \n",
       "1                   38.45      NaN                          0   \n",
       "2                   60.20      9.0                          4   \n",
       "3                   46.06      7.0                          0   \n",
       "4                   55.28      NaN                          4   \n",
       "...                   ...      ...                        ...   \n",
       "141396              48.29      NaN                          4   \n",
       "141397              61.18      NaN                         13   \n",
       "141398              50.76      NaN                          4   \n",
       "141399              55.93      NaN                          4   \n",
       "141400              68.92      NaN                          4   \n",
       "\n",
       "        experimentalTechnique_encoded  \n",
       "0                                  29  \n",
       "1                                  29  \n",
       "2                                  29  \n",
       "3                                  29  \n",
       "4                                  29  \n",
       "...                               ...  \n",
       "141396                             29  \n",
       "141397                             29  \n",
       "141398                             29  \n",
       "141399                             29  \n",
       "141400                             29  \n",
       "\n",
       "[141401 rows x 8 columns]"
      ]
     },
     "execution_count": 64,
     "metadata": {},
     "output_type": "execute_result"
    }
   ],
   "source": [
    "# converting catagorical columns to numerical value\n",
    "label_encoder = LabelEncoder()\n",
    "label1 = label_encoder.fit_transform(data1['macromoleculeType'])\n",
    "label1 = pd.DataFrame(label1, columns=['macromoleculeType_encoded'])\n",
    "label2 = label_encoder.fit_transform(data1['experimentalTechnique'])\n",
    "label2 = pd.DataFrame(label2, columns=['experimentalTechnique_encoded'])\n",
    "data1 = data1.join(label1)\n",
    "data1 = data1.join(label2)\n",
    "\n",
    "data1 = data1.drop(columns=['macromoleculeType','experimentalTechnique'])       #dropping the catagorical columns\n",
    "data1 "
   ]
  },
  {
   "cell_type": "code",
   "execution_count": 65,
   "metadata": {},
   "outputs": [
    {
     "name": "stdout",
     "output_type": "stream",
     "text": [
      "residueCount                      0.000000\n",
      "resolution                        9.060756\n",
      "structureMolecularWeight          0.000000\n",
      "densityMatthews                  11.794117\n",
      "densityPercentSol                11.776437\n",
      "phValue                          25.665306\n",
      "macromoleculeType_encoded         0.000000\n",
      "experimentalTechnique_encoded     0.000000\n",
      "dtype: float64\n"
     ]
    },
    {
     "data": {
      "text/plain": [
       "<matplotlib.colorbar.Colorbar at 0x2bd1141ea40>"
      ]
     },
     "execution_count": 65,
     "metadata": {},
     "output_type": "execute_result"
    },
    {
     "data": {
      "image/png": "[encoded data removed]",
      "text/plain": [
       "<Figure size 800x600 with 2 Axes>"
      ]
     },
     "metadata": {},
     "output_type": "display_data"
    }
   ],
   "source": [
    "# missing values handle\n",
    "missing_values = data1.isnull()          # missing value percent\n",
    "print((missing_values.sum()/row1)*100)              # percentage \n",
    "\n",
    "# heatmap to visualize the missing data\n",
    "plt.figure(figsize=(8, 6))\n",
    "plt.imshow(missing_values, aspect='auto', cmap='viridis')\n",
    "plt.colorbar()"
   ]
  },
  {
   "cell_type": "code",
   "execution_count": 66,
   "metadata": {},
   "outputs": [],
   "source": [
    "# separating missing value columns with no missing value columns\n",
    "missing = data1.columns[data1.isnull().any()]\n",
    "no_missing = []\n",
    "for i in data1.columns:\n",
    "    if i not in missing:\n",
    "        no_missing.append(i)\n",
    "knn_data1 = data1[missing]\n",
    "\n",
    "# Handling missing value with KNN and SimpleImputer\n",
    "scaler = StandardScaler()\n",
    "knn_data1 = pd.DataFrame(scaler.fit_transform(knn_data1))     #scaling the data first\n",
    "\n",
    "# KNN\n",
    "knn = KNNImputer(n_neighbors=5)\n",
    "knn_data1 = pd.DataFrame(knn.fit_transform(knn_data1))"
   ]
  },
  {
   "cell_type": "code",
   "execution_count": 67,
   "metadata": {},
   "outputs": [],
   "source": [
    "# scaling the non_missing columns\n",
    "scaler = StandardScaler()\n",
    "scale_data1 = pd.DataFrame(scaler.fit_transform(data1[no_missing]))\n",
    "data1 = pd.concat([scale_data1, knn_data1], axis=1)"
   ]
  },
  {
   "cell_type": "code",
   "execution_count": 68,
   "metadata": {},
   "outputs": [
    {
     "data": {
      "text/html": [
       "<div>\n",
       "<style scoped>\n",
       "    .dataframe tbody tr th:only-of-type {\n",
       "        vertical-align: middle;\n",
       "    }\n",
       "\n",
       "    .dataframe tbody tr th {\n",
       "        vertical-align: top;\n",
       "    }\n",
       "\n",
       "    .dataframe thead th {\n",
       "        text-align: right;\n",
       "    }\n",
       "</style>\n",
       "<table border=\"1\" class=\"dataframe\">\n",
       "  <thead>\n",
       "    <tr style=\"text-align: right;\">\n",
       "      <th></th>\n",
       "      <th>densityPercentSol</th>\n",
       "      <th>phValue</th>\n",
       "      <th>experimentalTechnique</th>\n",
       "      <th>macromoleculeType</th>\n",
       "      <th>densityPercentSol</th>\n",
       "      <th>phValue</th>\n",
       "      <th>experimentalTechnique</th>\n",
       "      <th>macromoleculeType</th>\n",
       "    </tr>\n",
       "  </thead>\n",
       "  <tbody>\n",
       "    <tr>\n",
       "      <th>0</th>\n",
       "      <td>-0.376968</td>\n",
       "      <td>-0.185813</td>\n",
       "      <td>-0.774533</td>\n",
       "      <td>0.308056</td>\n",
       "      <td>-0.257859</td>\n",
       "      <td>-1.135926</td>\n",
       "      <td>-2.025149</td>\n",
       "      <td>0.082648</td>\n",
       "    </tr>\n",
       "    <tr>\n",
       "      <th>1</th>\n",
       "      <td>-0.375096</td>\n",
       "      <td>-0.183037</td>\n",
       "      <td>-2.474043</td>\n",
       "      <td>0.308056</td>\n",
       "      <td>-0.009786</td>\n",
       "      <td>-0.855219</td>\n",
       "      <td>-1.276969</td>\n",
       "      <td>0.215626</td>\n",
       "    </tr>\n",
       "    <tr>\n",
       "      <th>2</th>\n",
       "      <td>-0.314247</td>\n",
       "      <td>-0.165156</td>\n",
       "      <td>-0.208030</td>\n",
       "      <td>0.308056</td>\n",
       "      <td>-0.137367</td>\n",
       "      <td>0.535554</td>\n",
       "      <td>0.875533</td>\n",
       "      <td>0.864874</td>\n",
       "    </tr>\n",
       "    <tr>\n",
       "      <th>3</th>\n",
       "      <td>-0.375096</td>\n",
       "      <td>-0.183568</td>\n",
       "      <td>-2.474043</td>\n",
       "      <td>0.308056</td>\n",
       "      <td>-0.045225</td>\n",
       "      <td>-0.497956</td>\n",
       "      <td>-0.523841</td>\n",
       "      <td>0.082648</td>\n",
       "    </tr>\n",
       "    <tr>\n",
       "      <th>4</th>\n",
       "      <td>-0.309099</td>\n",
       "      <td>-0.163726</td>\n",
       "      <td>-0.208030</td>\n",
       "      <td>0.308056</td>\n",
       "      <td>-0.371264</td>\n",
       "      <td>0.101735</td>\n",
       "      <td>0.388622</td>\n",
       "      <td>-0.112909</td>\n",
       "    </tr>\n",
       "    <tr>\n",
       "      <th>...</th>\n",
       "      <td>...</td>\n",
       "      <td>...</td>\n",
       "      <td>...</td>\n",
       "      <td>...</td>\n",
       "      <td>...</td>\n",
       "      <td>...</td>\n",
       "      <td>...</td>\n",
       "      <td>...</td>\n",
       "    </tr>\n",
       "    <tr>\n",
       "      <th>141396</th>\n",
       "      <td>0.049908</td>\n",
       "      <td>-0.017998</td>\n",
       "      <td>-0.208030</td>\n",
       "      <td>0.308056</td>\n",
       "      <td>0.238287</td>\n",
       "      <td>-0.370363</td>\n",
       "      <td>-0.303148</td>\n",
       "      <td>-0.011219</td>\n",
       "    </tr>\n",
       "    <tr>\n",
       "      <th>141397</th>\n",
       "      <td>-0.386329</td>\n",
       "      <td>-0.154379</td>\n",
       "      <td>4.890499</td>\n",
       "      <td>0.308056</td>\n",
       "      <td>0.184420</td>\n",
       "      <td>0.637629</td>\n",
       "      <td>0.972519</td>\n",
       "      <td>-0.191131</td>\n",
       "    </tr>\n",
       "    <tr>\n",
       "      <th>141398</th>\n",
       "      <td>-0.226251</td>\n",
       "      <td>-0.136758</td>\n",
       "      <td>-0.208030</td>\n",
       "      <td>0.308056</td>\n",
       "      <td>-0.328737</td>\n",
       "      <td>-0.217250</td>\n",
       "      <td>-0.058703</td>\n",
       "      <td>-0.026864</td>\n",
       "    </tr>\n",
       "    <tr>\n",
       "      <th>141399</th>\n",
       "      <td>-0.204720</td>\n",
       "      <td>-0.120461</td>\n",
       "      <td>-0.208030</td>\n",
       "      <td>0.308056</td>\n",
       "      <td>-0.257859</td>\n",
       "      <td>0.152773</td>\n",
       "      <td>0.452949</td>\n",
       "      <td>-0.159842</td>\n",
       "    </tr>\n",
       "    <tr>\n",
       "      <th>141400</th>\n",
       "      <td>0.349469</td>\n",
       "      <td>0.110104</td>\n",
       "      <td>-0.208030</td>\n",
       "      <td>0.308056</td>\n",
       "      <td>0.096531</td>\n",
       "      <td>1.645621</td>\n",
       "      <td>1.738513</td>\n",
       "      <td>-0.464910</td>\n",
       "    </tr>\n",
       "  </tbody>\n",
       "</table>\n",
       "<p>141401 rows × 8 columns</p>\n",
       "</div>"
      ],
      "text/plain": [
       "        densityPercentSol   phValue  experimentalTechnique  macromoleculeType  \\\n",
       "0               -0.376968 -0.185813              -0.774533           0.308056   \n",
       "1               -0.375096 -0.183037              -2.474043           0.308056   \n",
       "2               -0.314247 -0.165156              -0.208030           0.308056   \n",
       "3               -0.375096 -0.183568              -2.474043           0.308056   \n",
       "4               -0.309099 -0.163726              -0.208030           0.308056   \n",
       "...                   ...       ...                    ...                ...   \n",
       "141396           0.049908 -0.017998              -0.208030           0.308056   \n",
       "141397          -0.386329 -0.154379               4.890499           0.308056   \n",
       "141398          -0.226251 -0.136758              -0.208030           0.308056   \n",
       "141399          -0.204720 -0.120461              -0.208030           0.308056   \n",
       "141400           0.349469  0.110104              -0.208030           0.308056   \n",
       "\n",
       "        densityPercentSol   phValue  experimentalTechnique  macromoleculeType  \n",
       "0               -0.257859 -1.135926              -2.025149           0.082648  \n",
       "1               -0.009786 -0.855219              -1.276969           0.215626  \n",
       "2               -0.137367  0.535554               0.875533           0.864874  \n",
       "3               -0.045225 -0.497956              -0.523841           0.082648  \n",
       "4               -0.371264  0.101735               0.388622          -0.112909  \n",
       "...                   ...       ...                    ...                ...  \n",
       "141396           0.238287 -0.370363              -0.303148          -0.011219  \n",
       "141397           0.184420  0.637629               0.972519          -0.191131  \n",
       "141398          -0.328737 -0.217250              -0.058703          -0.026864  \n",
       "141399          -0.257859  0.152773               0.452949          -0.159842  \n",
       "141400           0.096531  1.645621               1.738513          -0.464910  \n",
       "\n",
       "[141401 rows x 8 columns]"
      ]
     },
     "execution_count": 68,
     "metadata": {},
     "output_type": "execute_result"
    }
   ],
   "source": [
    "# rename all the columns again\n",
    "data1.rename(columns=dict(zip(data1.columns, data1_feature)), inplace=True)\n",
    "data1"
   ]
  },
  {
   "cell_type": "code",
   "execution_count": 87,
   "metadata": {},
   "outputs": [],
   "source": [
    "# Prcessing data2\n",
    "# converting or encoding the sequence of protein sequence\n",
    "\n",
    "data2_label = data2['sequence']\n",
    "data2_index = data2['structureId']\n",
    "\n",
    "def generate_kmers(sequence, k):\n",
    "    if isinstance(sequence, str) and k > 0 and k <= len(sequence):\n",
    "        return [sequence[x:x+k].upper() for x in range(len(sequence) - k + 1)]\n",
    "    else:\n",
    "        return []\n",
    "\n",
    "k = 3\n",
    "kmer_docs = [\" \".join(generate_kmers(str(seq), k)) for seq in data2_label]\n",
    "vectorizer = CountVectorizer()\n",
    "data2_label = vectorizer.fit_transform(kmer_docs)\n"
   ]
  },
  {
   "cell_type": "code",
   "execution_count": 91,
   "metadata": {},
   "outputs": [
    {
     "name": "stdout",
     "output_type": "stream",
     "text": [
      "  (0, 503)\t2\n",
      "  (0, 587)\t2\n",
      "  (0, 2342)\t1\n",
      "  (0, 2261)\t1\n",
      "  (0, 583)\t1\n",
      "  (0, 2257)\t1\n",
      "  (1, 503)\t2\n",
      "  (1, 587)\t2\n",
      "  (1, 2342)\t1\n",
      "  (1, 2261)\t1\n",
      "  (1, 583)\t1\n",
      "  (1, 2257)\t1\n",
      "  (2, 2261)\t2\n",
      "  (2, 583)\t2\n",
      "  (2, 582)\t1\n",
      "  (2, 2233)\t1\n",
      "  (2, 16)\t1\n",
      "  (2, 360)\t1\n",
      "  (2, 7413)\t1\n",
      "  (2, 7097)\t1\n",
      "  (3, 2261)\t2\n",
      "  (3, 583)\t2\n",
      "  (3, 582)\t1\n",
      "  (3, 2233)\t1\n",
      "  (3, 16)\t1\n",
      "  :\t:\n",
      "  (467303, 2766)\t1\n",
      "  (467303, 1930)\t1\n",
      "  (467303, 5609)\t1\n",
      "  (467303, 6309)\t1\n",
      "  (467303, 7682)\t1\n",
      "  (467303, 7725)\t1\n",
      "  (467303, 6612)\t1\n",
      "  (467303, 3119)\t1\n",
      "  (467303, 4394)\t1\n",
      "  (467303, 6263)\t1\n",
      "  (467303, 6861)\t1\n",
      "  (467303, 3999)\t1\n",
      "  (467303, 1342)\t1\n",
      "  (467303, 1908)\t1\n",
      "  (467303, 4082)\t1\n",
      "  (467303, 2444)\t1\n",
      "  (467303, 998)\t1\n",
      "  (467303, 1850)\t1\n",
      "  (467303, 5554)\t1\n",
      "  (467303, 3185)\t1\n",
      "  (467303, 7982)\t1\n",
      "  (467303, 5156)\t1\n",
      "  (467303, 5331)\t1\n",
      "  (467303, 4854)\t1\n",
      "  (467303, 5961)\t1\n"
     ]
    }
   ],
   "source": [
    "print(data2_label)"
   ]
  },
  {
   "cell_type": "code",
   "execution_count": 69,
   "metadata": {},
   "outputs": [
    {
     "data": {
      "text/plain": [
       "'\\nAs there is 8 features, there is no need for feature selection\\n'"
      ]
     },
     "execution_count": 69,
     "metadata": {},
     "output_type": "execute_result"
    }
   ],
   "source": [
    "'''\n",
    "As there is 8 features, there is no need for feature selection\n",
    "'''"
   ]
  },
  {
   "cell_type": "markdown",
   "metadata": {},
   "source": [
    "Model Building"
   ]
  },
  {
   "cell_type": "code",
   "execution_count": 70,
   "metadata": {},
   "outputs": [
    {
     "data": {
      "image/png": "[encoded data removed]",
      "text/plain": [
       "<Figure size 640x480 with 1 Axes>"
      ]
     },
     "metadata": {},
     "output_type": "display_data"
    },
    {
     "data": {
      "text/plain": [
       "\"\\nAs the varience doesn't appears to have an elbow shape, PCA is not needed\\n\""
      ]
     },
     "execution_count": 70,
     "metadata": {},
     "output_type": "execute_result"
    }
   ],
   "source": [
    "# PCA needed or not\n",
    "\n",
    "pca = PCA().fit(data1)\n",
    "features = range(pca.n_components_)\n",
    "plt.bar(features, pca.explained_variance_ratio_, color='black')\n",
    "plt.xlabel('PCA features')\n",
    "plt.ylabel('Variance %')\n",
    "plt.xticks(features)\n",
    "plt.title(\"Variance Explained by PCA Components\")\n",
    "plt.show() \n",
    "\n",
    "'''\n",
    "As the varience doesn't appears to have an elbow shape, PCA is not needed\n",
    "'''"
   ]
  },
  {
   "cell_type": "code",
   "execution_count": null,
   "metadata": {},
   "outputs": [],
   "source": []
  },
  {
   "cell_type": "code",
   "execution_count": null,
   "metadata": {},
   "outputs": [],
   "source": []
  },
  {
   "cell_type": "code",
   "execution_count": null,
   "metadata": {},
   "outputs": [],
   "source": []
  },
  {
   "cell_type": "code",
   "execution_count": null,
   "metadata": {},
   "outputs": [],
   "source": []
  },
  {
   "cell_type": "code",
   "execution_count": null,
   "metadata": {},
   "outputs": [],
   "source": []
  },
  {
   "cell_type": "markdown",
   "metadata": {},
   "source": [
    "Analyzing the Model"
   ]
  },
  {
   "cell_type": "code",
   "execution_count": null,
   "metadata": {},
   "outputs": [],
   "source": []
  },
  {
   "cell_type": "markdown",
   "metadata": {},
   "source": [
    "Optimization"
   ]
  },
  {
   "cell_type": "code",
   "execution_count": null,
   "metadata": {},
   "outputs": [],
   "source": []
  },
  {
   "cell_type": "markdown",
   "metadata": {},
   "source": [
    "Insights"
   ]
  },
  {
   "cell_type": "code",
   "execution_count": null,
   "metadata": {},
   "outputs": [],
   "source": []
  }
 ],
 "metadata": {
  "kernelspec": {
   "display_name": "Python 3 (ipykernel)",
   "language": "python",
   "name": "python3"
  },
  "language_info": {
   "codemirror_mode": {
    "name": "ipython",
    "version": 3
   },
   "file_extension": ".py",
   "mimetype": "text/x-python",
   "name": "python",
   "nbconvert_exporter": "python",
   "pygments_lexer": "ipython3",
   "version": "3.10.9"
  }
 },
 "nbformat": 4,
 "nbformat_minor": 5
}
